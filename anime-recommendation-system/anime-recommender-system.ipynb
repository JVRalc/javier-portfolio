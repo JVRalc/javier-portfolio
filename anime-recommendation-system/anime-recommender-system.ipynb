{
 "cells": [
  {
   "cell_type": "code",
   "execution_count": 1,
   "id": "f227f834",
   "metadata": {},
   "outputs": [],
   "source": [
    "import pandas as pd\n",
    "import numpy as np\n",
    "import scipy.stats\n",
    "from scipy import sparse\n",
    "from scipy.sparse import csr_matrix\n",
    "from sklearn.neighbors import NearestNeighbors"
   ]
  },
  {
   "cell_type": "code",
   "execution_count": 2,
   "id": "69f33275",
   "metadata": {},
   "outputs": [],
   "source": [
    "#load data\n",
    "\n",
    "ratings = pd.read_csv('/data/users-score-2023.csv')\n",
    "anime = pd.read_csv('/data/anime-dataset-2023.csv')"
   ]
  },
  {
   "cell_type": "code",
   "execution_count": 3,
   "id": "eff02be8",
   "metadata": {},
   "outputs": [
    {
     "name": "stdout",
     "output_type": "stream",
     "text": [
      "(3529, 24)\n"
     ]
    }
   ],
   "source": [
    "# data cleaning & preparation\n",
    "\n",
    "anime['Scored By'] = pd.to_numeric(anime['Scored By'], errors='coerce').astype('Int64')\n",
    "\n",
    "anime = anime[(anime['Rating'] != 'Rx - Hentai') &  # exclude hentai\n",
    "                (anime['Type'] != 'Music') &        # exclude anime music videos\n",
    "                (anime['Score'] != 'UNKNOWN') &     # exclude anime with unknown score\n",
    "                (anime['Rank'] != 'UNKNOWN') &      # exculde anime with unknown ranking\n",
    "                (anime['Scored By'] >= 5000) &      # popularity cutoff: only include anime scored by at least 5K users\n",
    "                (anime['Members'] >= 10000)&        # popularity cutoff: only include anime with at least 10K members\n",
    "                (anime['Favorites'] >= 60)]         # popularity cutoff: only include anime with at least 60 favorites\n",
    "\n",
    "                                                    # note: all numbers for the popularity cutoffs are based on the lower average of each category\n",
    "print(anime.shape)"
   ]
  },
  {
   "cell_type": "code",
   "execution_count": 4,
   "id": "4abffcc8",
   "metadata": {},
   "outputs": [],
   "source": [
    "anime = anime[['anime_id', 'Name', 'Genres']]"
   ]
  },
  {
   "cell_type": "code",
   "execution_count": 5,
   "id": "cbb81405",
   "metadata": {},
   "outputs": [],
   "source": [
    "# split the 'Genres' column\n",
    "genre_clean = anime['Genres'].str.split(',').explode().str.strip().unique().tolist()\n",
    "\n",
    "for genre_type in genre_clean:\n",
    "    genre_name = genre_type.lower().replace(\"-\", \"\")\n",
    "    anime[genre_name] = anime.Genres.str.contains(genre_type)"
   ]
  },
  {
   "cell_type": "code",
   "execution_count": 6,
   "id": "ef963605",
   "metadata": {},
   "outputs": [],
   "source": [
    "ratings_stats = (ratings.groupby(\"anime_id\").agg(avg_ratings=(\"rating\", \"mean\"), total_ratings=(\"rating\", \"count\")).reset_index())\n",
    "anime_stats = ratings_stats.merge(anime, on=\"anime_id\")"
   ]
  },
  {
   "cell_type": "code",
   "execution_count": 7,
   "id": "8ad5d0f6",
   "metadata": {},
   "outputs": [],
   "source": [
    "user_anime = ratings.merge(anime[['anime_id', 'Name']], on='anime_id').groupby(['user_id', 'anime_id', 'Name']).agg(rating=('rating', 'mean')).reset_index()"
   ]
  },
  {
   "cell_type": "code",
   "execution_count": 8,
   "id": "7c7d6d14",
   "metadata": {},
   "outputs": [],
   "source": [
    "ua_matrix = user_anime.pivot(\n",
    "    index='anime_id',\n",
    "     columns='user_id',\n",
    "      values='rating').fillna(0)"
   ]
  },
  {
   "cell_type": "markdown",
   "id": "a9ade6e5",
   "metadata": {},
   "source": [
    "----"
   ]
  },
  {
   "cell_type": "code",
   "execution_count": 9,
   "id": "a88516cc",
   "metadata": {},
   "outputs": [],
   "source": [
    "# get anime recommendations based on user's most-liked genre\n",
    "\n",
    "def genre_rec(user_id, user_fav_n=10, popularity_cutoff=0.9, n_to_suggest=10, ratings=ratings, anime_data=anime):\n",
    "\n",
    "  single_user = ratings[ratings.user_id == user_id]\n",
    "  if len(single_user) == 0:\n",
    "    raise ValueError('User Does not exist')\n",
    "  topn = single_user.sort_values('rating', ascending=False).head(user_fav_n)\n",
    "  top_genres = topn.merge(anime_data, on=['anime_id']).groupby('user_id').sum(numeric_only=True).drop(['anime_id', 'rating'], axis=1).T.reset_index()\n",
    "  top_genres.columns = ['genre', 'n_times_ranked']\n",
    "  favorite_genre = top_genres.sort_values('n_times_ranked', ascending=False).head(1)['genre'].values[0]\n",
    "  target_anime = anime_stats[anime_stats[favorite_genre] == True]\n",
    "  omit_seen = target_anime[~target_anime.anime_id.isin(single_user.anime_id)]\n",
    "  popular_anime = omit_seen[omit_seen.total_ratings > omit_seen.total_ratings.quantile(popularity_cutoff)]\n",
    "  top_ranked = popular_anime.sort_values('avg_ratings', ascending=False).head(n_to_suggest)\n",
    "  suggested_anime = top_ranked['Name'].values.tolist()\n",
    "\n",
    "  return(suggested_anime)"
   ]
  },
  {
   "cell_type": "code",
   "execution_count": 10,
   "id": "dfba6116",
   "metadata": {},
   "outputs": [
    {
     "data": {
      "text/plain": [
       "['Hunter x Hunter (2011)',\n",
       " 'Rurouni Kenshin: Meiji Kenkaku Romantan - Tsuioku-hen',\n",
       " 'Mononoke Hime',\n",
       " 'Tengen Toppa Gurren Lagann',\n",
       " 'Fate/Zero 2nd Season',\n",
       " 'Kara no Kyoukai Movie 5: Mujun Rasen',\n",
       " 'Gintama',\n",
       " 'One Punch Man',\n",
       " 'One Piece',\n",
       " 'Hellsing Ultimate']"
      ]
     },
     "execution_count": 10,
     "metadata": {},
     "output_type": "execute_result"
    }
   ],
   "source": [
    "genre_rec(4)"
   ]
  },
  {
   "cell_type": "markdown",
   "id": "676026ba",
   "metadata": {},
   "source": [
    "---"
   ]
  },
  {
   "cell_type": "code",
   "execution_count": 11,
   "id": "11cf2fd9",
   "metadata": {},
   "outputs": [],
   "source": [
    "# k-nearest neighbors-based recommendation system\n",
    "\n",
    "# create sparse matrix\n",
    "sparse_data = csr_matrix(ua_matrix.values)"
   ]
  },
  {
   "cell_type": "code",
   "execution_count": 12,
   "id": "0b2b639f",
   "metadata": {},
   "outputs": [
    {
     "data": {
      "text/html": [
       "<style>#sk-container-id-1 {color: black;}#sk-container-id-1 pre{padding: 0;}#sk-container-id-1 div.sk-toggleable {background-color: white;}#sk-container-id-1 label.sk-toggleable__label {cursor: pointer;display: block;width: 100%;margin-bottom: 0;padding: 0.3em;box-sizing: border-box;text-align: center;}#sk-container-id-1 label.sk-toggleable__label-arrow:before {content: \"▸\";float: left;margin-right: 0.25em;color: #696969;}#sk-container-id-1 label.sk-toggleable__label-arrow:hover:before {color: black;}#sk-container-id-1 div.sk-estimator:hover label.sk-toggleable__label-arrow:before {color: black;}#sk-container-id-1 div.sk-toggleable__content {max-height: 0;max-width: 0;overflow: hidden;text-align: left;background-color: #f0f8ff;}#sk-container-id-1 div.sk-toggleable__content pre {margin: 0.2em;color: black;border-radius: 0.25em;background-color: #f0f8ff;}#sk-container-id-1 input.sk-toggleable__control:checked~div.sk-toggleable__content {max-height: 200px;max-width: 100%;overflow: auto;}#sk-container-id-1 input.sk-toggleable__control:checked~label.sk-toggleable__label-arrow:before {content: \"▾\";}#sk-container-id-1 div.sk-estimator input.sk-toggleable__control:checked~label.sk-toggleable__label {background-color: #d4ebff;}#sk-container-id-1 div.sk-label input.sk-toggleable__control:checked~label.sk-toggleable__label {background-color: #d4ebff;}#sk-container-id-1 input.sk-hidden--visually {border: 0;clip: rect(1px 1px 1px 1px);clip: rect(1px, 1px, 1px, 1px);height: 1px;margin: -1px;overflow: hidden;padding: 0;position: absolute;width: 1px;}#sk-container-id-1 div.sk-estimator {font-family: monospace;background-color: #f0f8ff;border: 1px dotted black;border-radius: 0.25em;box-sizing: border-box;margin-bottom: 0.5em;}#sk-container-id-1 div.sk-estimator:hover {background-color: #d4ebff;}#sk-container-id-1 div.sk-parallel-item::after {content: \"\";width: 100%;border-bottom: 1px solid gray;flex-grow: 1;}#sk-container-id-1 div.sk-label:hover label.sk-toggleable__label {background-color: #d4ebff;}#sk-container-id-1 div.sk-serial::before {content: \"\";position: absolute;border-left: 1px solid gray;box-sizing: border-box;top: 0;bottom: 0;left: 50%;z-index: 0;}#sk-container-id-1 div.sk-serial {display: flex;flex-direction: column;align-items: center;background-color: white;padding-right: 0.2em;padding-left: 0.2em;position: relative;}#sk-container-id-1 div.sk-item {position: relative;z-index: 1;}#sk-container-id-1 div.sk-parallel {display: flex;align-items: stretch;justify-content: center;background-color: white;position: relative;}#sk-container-id-1 div.sk-item::before, #sk-container-id-1 div.sk-parallel-item::before {content: \"\";position: absolute;border-left: 1px solid gray;box-sizing: border-box;top: 0;bottom: 0;left: 50%;z-index: -1;}#sk-container-id-1 div.sk-parallel-item {display: flex;flex-direction: column;z-index: 1;position: relative;background-color: white;}#sk-container-id-1 div.sk-parallel-item:first-child::after {align-self: flex-end;width: 50%;}#sk-container-id-1 div.sk-parallel-item:last-child::after {align-self: flex-start;width: 50%;}#sk-container-id-1 div.sk-parallel-item:only-child::after {width: 0;}#sk-container-id-1 div.sk-dashed-wrapped {border: 1px dashed gray;margin: 0 0.4em 0.5em 0.4em;box-sizing: border-box;padding-bottom: 0.4em;background-color: white;}#sk-container-id-1 div.sk-label label {font-family: monospace;font-weight: bold;display: inline-block;line-height: 1.2em;}#sk-container-id-1 div.sk-label-container {text-align: center;}#sk-container-id-1 div.sk-container {/* jupyter's `normalize.less` sets `[hidden] { display: none; }` but bootstrap.min.css set `[hidden] { display: none !important; }` so we also need the `!important` here to be able to override the default hidden behavior on the sphinx rendered scikit-learn.org. See: https://github.com/scikit-learn/scikit-learn/issues/21755 */display: inline-block !important;position: relative;}#sk-container-id-1 div.sk-text-repr-fallback {display: none;}</style><div id=\"sk-container-id-1\" class=\"sk-top-container\"><div class=\"sk-text-repr-fallback\"><pre>NearestNeighbors(metric=&#x27;cosine&#x27;)</pre><b>In a Jupyter environment, please rerun this cell to show the HTML representation or trust the notebook. <br />On GitHub, the HTML representation is unable to render, please try loading this page with nbviewer.org.</b></div><div class=\"sk-container\" hidden><div class=\"sk-item\"><div class=\"sk-estimator sk-toggleable\"><input class=\"sk-toggleable__control sk-hidden--visually\" id=\"sk-estimator-id-1\" type=\"checkbox\" checked><label for=\"sk-estimator-id-1\" class=\"sk-toggleable__label sk-toggleable__label-arrow\">NearestNeighbors</label><div class=\"sk-toggleable__content\"><pre>NearestNeighbors(metric=&#x27;cosine&#x27;)</pre></div></div></div></div></div>"
      ],
      "text/plain": [
       "NearestNeighbors(metric='cosine')"
      ]
     },
     "execution_count": 12,
     "metadata": {},
     "output_type": "execute_result"
    }
   ],
   "source": [
    "# train knn model\n",
    "knn_model = NearestNeighbors(metric='cosine', algorithm='auto')\n",
    "knn_model.fit(sparse_data)"
   ]
  },
  {
   "cell_type": "code",
   "execution_count": 13,
   "id": "e44b5185",
   "metadata": {},
   "outputs": [],
   "source": [
    "# get similar anime recommendation with knn\n",
    "\n",
    "title_lkp = dict(zip(anime.anime_id.values, anime.Name.values))\n",
    "index_lkp = dict(zip(range(len(ua_matrix)), anime.anime_id.values))\n",
    "inverse_index_lkp = dict(zip(ua_matrix.index, range(len(ua_matrix))))\n",
    "\n",
    "def get_similar_anime(anime, data, index_lkp, model, title_lkp = None, n = 10):\n",
    "\n",
    "  if type(anime) == str:\n",
    "    anime = [key for key, value in title_lkp.items() if value == anime][0]\n",
    "  input = data[data.index == anime].values.reshape(1,-1)\n",
    "  distances, indices = model.kneighbors(input, n_neighbors=n+1)\n",
    "  results = [index_lkp[indices[0][i]] for i in range(0,len(distances[0]))]\n",
    "  if title_lkp is not None:\n",
    "    results = [title_lkp[x] for x in results]\n",
    "    \n",
    "  return(results)"
   ]
  },
  {
   "cell_type": "code",
   "execution_count": 14,
   "id": "e8aa5256",
   "metadata": {},
   "outputs": [],
   "source": [
    "def get_similar_anime(anime, data, index_lkp, model, title_lkp=None, n=10):\n",
    "    if type(anime) == str:\n",
    "        anime_id = [key for key, value in title_lkp.items() if value == anime][0]\n",
    "    input = data[data.index == anime_id].values.reshape(1, -1)\n",
    "    distances, indices = model.kneighbors(input, n_neighbors=n + 1)\n",
    "    results = [index_lkp[indices[0][i]] for i in range(0, len(distances[0]))]\n",
    "    if title_lkp is not None:\n",
    "        results = [title_lkp[x] for x in results]\n",
    "    results = [title for title in results if title != anime]\n",
    "\n",
    "    return results\n"
   ]
  },
  {
   "cell_type": "code",
   "execution_count": 15,
   "id": "fe3cacf9",
   "metadata": {},
   "outputs": [
    {
     "data": {
      "text/plain": [
       "['Bleach',\n",
       " 'Naruto',\n",
       " 'Naruto: Shippuuden',\n",
       " 'Fairy Tail',\n",
       " 'Death Note',\n",
       " 'Fullmetal Alchemist',\n",
       " 'Fullmetal Alchemist: Brotherhood',\n",
       " 'Code Geass: Hangyaku no Lelouch',\n",
       " 'One Piece Film: Strong World',\n",
       " 'Dragon Ball Z']"
      ]
     },
     "execution_count": 15,
     "metadata": {},
     "output_type": "execute_result"
    }
   ],
   "source": [
    "get_similar_anime('One Piece', ua_matrix, index_lkp, knn_model, title_lkp)"
   ]
  },
  {
   "cell_type": "markdown",
   "id": "701992ca",
   "metadata": {},
   "source": [
    "---"
   ]
  },
  {
   "cell_type": "code",
   "execution_count": 16,
   "id": "f8202f2f",
   "metadata": {},
   "outputs": [],
   "source": [
    "# combining genre-based and knn recommendation systems\n",
    "\n",
    "def anime_rec(user_id):\n",
    "    genre_recs = genre_rec(user_id)\n",
    "\n",
    "    knn_recs = []\n",
    "    for anime_name in genre_recs:\n",
    "        top_k = get_similar_anime(anime_name, ua_matrix, index_lkp, knn_model, title_lkp)\n",
    "        knn_recs.append(top_k[0])\n",
    "\n",
    "    knn_recs = list(set(knn_recs))\n",
    "    watched = user_anime[user_anime.user_id == user_id]\n",
    "    knn_recs = [rec for rec in knn_recs if rec not in watched['Name'].values]\n",
    "\n",
    "    return knn_recs"
   ]
  },
  {
   "cell_type": "code",
   "execution_count": 17,
   "id": "73ffae24",
   "metadata": {},
   "outputs": [
    {
     "data": {
      "text/plain": [
       "['Bleach',\n",
       " 'Kara no Kyoukai Movie 4: Garan no Dou',\n",
       " 'Rurouni Kenshin: Meiji Kenkaku Romantan - Seisou-hen',\n",
       " 'Fate/Zero',\n",
       " 'Sen to Chihiro no Kamikakushi',\n",
       " \"Gintama'\",\n",
       " 'Mob Psycho 100']"
      ]
     },
     "execution_count": 17,
     "metadata": {},
     "output_type": "execute_result"
    }
   ],
   "source": [
    "anime_rec(4)"
   ]
  }
 ],
 "metadata": {
  "kernelspec": {
   "display_name": "Python 3 (ipykernel)",
   "language": "python",
   "name": "python3"
  },
  "language_info": {
   "codemirror_mode": {
    "name": "ipython",
    "version": 3
   },
   "file_extension": ".py",
   "mimetype": "text/x-python",
   "name": "python",
   "nbconvert_exporter": "python",
   "pygments_lexer": "ipython3",
   "version": "3.11.4"
  }
 },
 "nbformat": 4,
 "nbformat_minor": 5
}
